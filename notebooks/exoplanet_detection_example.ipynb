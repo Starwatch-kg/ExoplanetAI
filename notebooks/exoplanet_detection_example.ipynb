{
 "cells": [
  {
   "cell_type": "markdown",
   "id": "26de338f",
   "metadata": {},
   "source": [
    "# Примеры работы с Exoplanet AI\n",
    "\n",
    "В этом ноутбуке показаны примеры использования библиотеки Exoplanet AI для загрузки, предобработки и анализа данных с целью поиска транзитов экзопланет.\n",
    "\n",
    "## Содержание\n",
    "\n",
    "1. Загрузка данных\n",
    "2. Предобработка\n",
    "3. Разбиение на окна\n",
    "4. Визуализация\n",
    "5. Аугментация данных\n",
    "6. Сохранение"
   ]
  },
  {
   "cell_type": "code",
   "execution_count": null,
   "id": "eaba2114",
   "metadata": {},
   "outputs": [],
   "source": [
    "# Импортируем необходимые библиотеки\n",
    "import numpy as np\n",
    "import matplotlib.pyplot as plt\n",
    "from src import preprocess, model, detect, visualize\n",
    "\n",
    "# Настройка стиля графиков\n",
    "plt.style.use('seaborn-darkgrid')\n",
    "plt.rcParams['figure.figsize'] = (12, 6)"
   ]
  },
  {
   "cell_type": "markdown",
   "id": "3b1f5a26",
   "metadata": {},
   "source": [
    "## 1. Загрузка данных\n",
    "\n",
    "В этом разделе мы загрузим данные для известной звезды с подтвержденной экзопланетой - Kepler-10. Этот объект интересен тем, что у него есть два подтвержденных планетных компаньона:"
   ]
  },
  {
   "cell_type": "code",
   "execution_count": null,
   "id": "36b23b43",
   "metadata": {},
   "outputs": [],
   "source": [
    "# Загрузим данные с кэшированием\n",
    "times, flux = preprocess.load_lightcurve(\n",
    "    \"Kepler-10\",\n",
    "    mission=preprocess.DataSource.KEPLER,\n",
    "    use_cache=True\n",
    ")\n",
    "\n",
    "# Проверим качество данных\n",
    "validation = preprocess.validate_lightcurve(times, flux)\n",
    "print(\"Информация о качестве данных:\")\n",
    "print(f\"Временной интервал: {validation['time_span']:.1f} дней\")\n",
    "print(f\"Медианный интервал: {validation['median_cadence']:.3f} дней\")\n",
    "print(f\"Количество пропусков: {validation['n_gaps']}\")\n",
    "print(f\"Количество выбросов: {validation['n_outliers']}\")\n",
    "\n",
    "# Построим исходные данные\n",
    "plt.figure(figsize=(15, 5))\n",
    "plt.plot(times[:1000], flux[:1000], 'k.', alpha=0.5, ms=1)\n",
    "plt.xlabel('Время [дни]')\n",
    "plt.ylabel('Нормированный поток')\n",
    "plt.title('Исходные данные (первые 1000 точек)')\n",
    "plt.show()"
   ]
  },
  {
   "cell_type": "markdown",
   "id": "765e852d",
   "metadata": {},
   "source": [
    "## 2. Предобработка\n",
    "\n",
    "Теперь проведем полный цикл предобработки данных:\n",
    "1. Удалим выбросы\n",
    "2. Удалим тренд\n",
    "3. Сгладим шумы\n",
    "4. Нормализуем данные"
   ]
  },
  {
   "cell_type": "code",
   "execution_count": null,
   "id": "16fc755a",
   "metadata": {},
   "outputs": [],
   "source": [
    "# Создадим функцию для визуализации результатов предобработки\n",
    "def plot_preprocessing_step(times, flux_before, flux_after, title):\n",
    "    plt.figure(figsize=(15, 8))\n",
    "    \n",
    "    plt.subplot(211)\n",
    "    plt.plot(times[:1000], flux_before[:1000], 'k.', alpha=0.5, ms=1)\n",
    "    plt.title(f'{title} - До')\n",
    "    plt.ylabel('Поток')\n",
    "    \n",
    "    plt.subplot(212)\n",
    "    plt.plot(times[:1000], flux_after[:1000], 'k.', alpha=0.5, ms=1)\n",
    "    plt.title(f'{title} - После')\n",
    "    plt.xlabel('Время [дни]')\n",
    "    plt.ylabel('Поток')\n",
    "    \n",
    "    plt.tight_layout()\n",
    "    plt.show()\n",
    "\n",
    "# 1. Удаление выбросов\n",
    "flux_clean = preprocess.remove_outliers(flux, method='mad')\n",
    "plot_preprocessing_step(times, flux, flux_clean, 'Удаление выбросов')"
   ]
  },
  {
   "cell_type": "code",
   "execution_count": null,
   "id": "cff2b522",
   "metadata": {},
   "outputs": [],
   "source": [
    "# 2. Удаление тренда\n",
    "flux_detrend = preprocess.detrend(flux_clean, times, method='polynomial')\n",
    "plot_preprocessing_step(times, flux_clean, flux_detrend, 'Удаление тренда')"
   ]
  },
  {
   "cell_type": "code",
   "execution_count": null,
   "id": "37a8be78",
   "metadata": {},
   "outputs": [],
   "source": [
    "# 3. Сглаживание\n",
    "flux_smooth = preprocess.smooth_lightcurve(flux_detrend, method='savgol')\n",
    "plot_preprocessing_step(times, flux_detrend, flux_smooth, 'Сглаживание')"
   ]
  },
  {
   "cell_type": "code",
   "execution_count": null,
   "id": "9ba722ed",
   "metadata": {},
   "outputs": [],
   "source": [
    "# 4. Нормализация\n",
    "flux_norm = preprocess.normalize_array(flux_smooth, method='robust')\n",
    "plot_preprocessing_step(times, flux_smooth, flux_norm, 'Нормализация')"
   ]
  },
  {
   "cell_type": "markdown",
   "id": "28e1f275",
   "metadata": {},
   "source": [
    "## 3. Разбиение на окна\n",
    "\n",
    "Теперь разобьем наши данные на окна для обучения. Мы создадим синтетический набор данных с известными транзитами для тренировки модели."
   ]
  },
  {
   "cell_type": "code",
   "execution_count": null,
   "id": "fe22a95c",
   "metadata": {},
   "outputs": [],
   "source": [
    "# Создадим синтетический набор данных\n",
    "X_train, y_train = preprocess.generate_training_dataset(\n",
    "    num_samples=5000,\n",
    "    sequence_length=2000,\n",
    "    transit_probability=0.3\n",
    ")\n",
    "\n",
    "print(f\"Размеры обучающего набора: {X_train.shape}\")\n",
    "print(f\"Позитивных примеров: {y_train.sum()}\")\n",
    "print(f\"Негативных примеров: {(1 - y_train).sum()}\")\n",
    "\n",
    "# Визуализируем несколько примеров\n",
    "plt.figure(figsize=(15, 10))\n",
    "\n",
    "for i in range(4):\n",
    "    plt.subplot(2, 2, i+1)\n",
    "    plt.plot(X_train[i])\n",
    "    plt.title(f\"{'Транзит' if y_train[i] == 1 else 'Нет транзита'}\")\n",
    "    plt.xlabel('Время')\n",
    "    plt.ylabel('Поток')\n",
    "    \n",
    "plt.tight_layout()\n",
    "plt.show()"
   ]
  },
  {
   "cell_type": "markdown",
   "id": "085ce2ee",
   "metadata": {},
   "source": [
    "## 4. Обучение модели\n",
    "\n",
    "Используем сгенерированные данные для обучения модели детекции транзитов."
   ]
  },
  {
   "cell_type": "code",
   "execution_count": null,
   "id": "f56c8b8c",
   "metadata": {},
   "outputs": [],
   "source": [
    "# Обучим модель\n",
    "model, history = detect.train_on_windows(\n",
    "    X_train,\n",
    "    y_train,\n",
    "    model_type='cnn',\n",
    "    epochs=10,\n",
    "    batch_size=32,\n",
    "    lr=0.0005\n",
    ")\n",
    "\n",
    "# Визуализируем процесс обучения\n",
    "visualize.plot_training_history(history)"
   ]
  },
  {
   "cell_type": "markdown",
   "id": "2b75ca89",
   "metadata": {},
   "source": [
    "## 5. Поиск транзитов\n",
    "\n",
    "Теперь применим обученную модель для поиска транзитов в реальных данных."
   ]
  },
  {
   "cell_type": "code",
   "execution_count": null,
   "id": "7de3df5d",
   "metadata": {},
   "outputs": [],
   "source": [
    "# Поиск транзитов в предобработанных данных\n",
    "probs = detect.sliding_prediction_full(model, flux_norm)\n",
    "candidates = detect.extract_candidates(times, probs, threshold=0.7)\n",
    "\n",
    "print(f\"Найдено кандидатов: {len(candidates)}\")\n",
    "for i, candidate in enumerate(candidates):\n",
    "    print(f\"  кандидат {i}: start_time={candidate['start_time']:.3f}, \" +\n",
    "          f\"end_time={candidate['end_time']:.3f}, mean_prob={candidate['mean_prob']:.3f}\")\n",
    "\n",
    "# Визуализация результатов\n",
    "visualize.plot_lightcurve(times, flux_norm, probs, candidates)\n",
    "\n",
    "# Детальный просмотр первого кандидата\n",
    "if len(candidates) > 0:\n",
    "    visualize.plot_candidate_details(times, flux_norm, candidates[0])"
   ]
  },
  {
   "cell_type": "markdown",
   "id": "5230f8dc",
   "metadata": {},
   "source": [
    "## 6. Сохранение результатов\n",
    "\n",
    "В заключение сохраним предобработанные данные и результаты для последующего использования."
   ]
  },
  {
   "cell_type": "code",
   "execution_count": null,
   "id": "4524dc9e",
   "metadata": {},
   "outputs": [],
   "source": [
    "# Создадим словарь с результатами\n",
    "results = {\n",
    "    'times': times,\n",
    "    'flux_raw': flux,\n",
    "    'flux_processed': flux_norm,\n",
    "    'predictions': probs,\n",
    "    'candidates': candidates\n",
    "}\n",
    "\n",
    "# Сохраним в numpy формате\n",
    "import os\n",
    "os.makedirs('data/results', exist_ok=True)\n",
    "np.savez_compressed(\n",
    "    'data/results/kepler10_results.npz',\n",
    "    **results\n",
    ")\n",
    "\n",
    "print(\"Результаты сохранены в data/results/kepler10_results.npz\")"
   ]
  }
 ],
 "metadata": {
  "language_info": {
   "name": "python"
  }
 },
 "nbformat": 4,
 "nbformat_minor": 5
}
